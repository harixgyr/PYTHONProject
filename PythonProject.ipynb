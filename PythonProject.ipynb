{
 "cells": [
  {
   "cell_type": "markdown",
   "id": "e07f5f44-f5dc-4691-9de5-fad04e0a1d35",
   "metadata": {},
   "source": [
    "# USED CARS DETAIL ANALYSIS BY PYTHON"
   ]
  },
  {
   "cell_type": "code",
   "execution_count": 146,
   "id": "d5df8c9e-66b8-4d50-833d-a8b8174dc906",
   "metadata": {},
   "outputs": [
    {
     "data": {
      "text/plain": [
       "'3.12.7 | packaged by Anaconda, Inc. | (main, Oct  4 2024, 13:17:27) [MSC v.1929 64 bit (AMD64)]'"
      ]
     },
     "execution_count": 146,
     "metadata": {},
     "output_type": "execute_result"
    }
   ],
   "source": [
    "import sys\n",
    "sys.version"
   ]
  },
  {
   "cell_type": "code",
   "execution_count": 2,
   "id": "fb568674-0832-46f8-9af8-0c4a9da51425",
   "metadata": {},
   "outputs": [],
   "source": [
    "import pandas as pd\n",
    "import numpy as np\n",
    "import matplotlib.pyplot as plts\n",
    "import seaborn as sea\n",
    "import warnings\n",
    "warnings.filterwarnings('ignore')"
   ]
  },
  {
   "cell_type": "code",
   "execution_count": 3,
   "id": "f1eb865f-c528-4d7c-97d6-fbe73ec4122d",
   "metadata": {},
   "outputs": [
    {
     "data": {
      "text/html": [
       "<div>\n",
       "<style scoped>\n",
       "    .dataframe tbody tr th:only-of-type {\n",
       "        vertical-align: middle;\n",
       "    }\n",
       "\n",
       "    .dataframe tbody tr th {\n",
       "        vertical-align: top;\n",
       "    }\n",
       "\n",
       "    .dataframe thead th {\n",
       "        text-align: right;\n",
       "    }\n",
       "</style>\n",
       "<table border=\"1\" class=\"dataframe\">\n",
       "  <thead>\n",
       "    <tr style=\"text-align: right;\">\n",
       "      <th></th>\n",
       "      <th>Car_ID</th>\n",
       "      <th>Brand</th>\n",
       "      <th>Model</th>\n",
       "      <th>Year</th>\n",
       "      <th>Kilometers_Driven</th>\n",
       "      <th>Fuel_Type</th>\n",
       "      <th>Transmission</th>\n",
       "      <th>Owner_Type</th>\n",
       "      <th>Mileage</th>\n",
       "      <th>Engine</th>\n",
       "      <th>Power</th>\n",
       "      <th>Seats</th>\n",
       "      <th>Price</th>\n",
       "    </tr>\n",
       "  </thead>\n",
       "  <tbody>\n",
       "    <tr>\n",
       "      <th>0</th>\n",
       "      <td>1</td>\n",
       "      <td>Toyota</td>\n",
       "      <td>Corolla</td>\n",
       "      <td>2018</td>\n",
       "      <td>50000</td>\n",
       "      <td>Petrol</td>\n",
       "      <td>Manual</td>\n",
       "      <td>First</td>\n",
       "      <td>15</td>\n",
       "      <td>1498</td>\n",
       "      <td>108</td>\n",
       "      <td>5</td>\n",
       "      <td>800000</td>\n",
       "    </tr>\n",
       "    <tr>\n",
       "      <th>1</th>\n",
       "      <td>2</td>\n",
       "      <td>Honda</td>\n",
       "      <td>Civic</td>\n",
       "      <td>2019</td>\n",
       "      <td>40000</td>\n",
       "      <td>Petrol</td>\n",
       "      <td>Automatic</td>\n",
       "      <td>Second</td>\n",
       "      <td>17</td>\n",
       "      <td>1597</td>\n",
       "      <td>140</td>\n",
       "      <td>5</td>\n",
       "      <td>1000000</td>\n",
       "    </tr>\n",
       "    <tr>\n",
       "      <th>2</th>\n",
       "      <td>3</td>\n",
       "      <td>Ford</td>\n",
       "      <td>Mustang</td>\n",
       "      <td>2017</td>\n",
       "      <td>20000</td>\n",
       "      <td>Petrol</td>\n",
       "      <td>Automatic</td>\n",
       "      <td>First</td>\n",
       "      <td>10</td>\n",
       "      <td>4951</td>\n",
       "      <td>395</td>\n",
       "      <td>4</td>\n",
       "      <td>2500000</td>\n",
       "    </tr>\n",
       "    <tr>\n",
       "      <th>3</th>\n",
       "      <td>4</td>\n",
       "      <td>Maruti</td>\n",
       "      <td>Swift</td>\n",
       "      <td>2020</td>\n",
       "      <td>30000</td>\n",
       "      <td>Diesel</td>\n",
       "      <td>Manual</td>\n",
       "      <td>Third</td>\n",
       "      <td>23</td>\n",
       "      <td>1248</td>\n",
       "      <td>74</td>\n",
       "      <td>5</td>\n",
       "      <td>600000</td>\n",
       "    </tr>\n",
       "    <tr>\n",
       "      <th>4</th>\n",
       "      <td>5</td>\n",
       "      <td>Hyundai</td>\n",
       "      <td>Sonata</td>\n",
       "      <td>2016</td>\n",
       "      <td>60000</td>\n",
       "      <td>Diesel</td>\n",
       "      <td>Automatic</td>\n",
       "      <td>Second</td>\n",
       "      <td>18</td>\n",
       "      <td>1999</td>\n",
       "      <td>194</td>\n",
       "      <td>5</td>\n",
       "      <td>850000</td>\n",
       "    </tr>\n",
       "    <tr>\n",
       "      <th>...</th>\n",
       "      <td>...</td>\n",
       "      <td>...</td>\n",
       "      <td>...</td>\n",
       "      <td>...</td>\n",
       "      <td>...</td>\n",
       "      <td>...</td>\n",
       "      <td>...</td>\n",
       "      <td>...</td>\n",
       "      <td>...</td>\n",
       "      <td>...</td>\n",
       "      <td>...</td>\n",
       "      <td>...</td>\n",
       "      <td>...</td>\n",
       "    </tr>\n",
       "    <tr>\n",
       "      <th>95</th>\n",
       "      <td>96</td>\n",
       "      <td>Mercedes</td>\n",
       "      <td>C-Class</td>\n",
       "      <td>2019</td>\n",
       "      <td>22000</td>\n",
       "      <td>Diesel</td>\n",
       "      <td>Automatic</td>\n",
       "      <td>First</td>\n",
       "      <td>16</td>\n",
       "      <td>1950</td>\n",
       "      <td>191</td>\n",
       "      <td>5</td>\n",
       "      <td>2900000</td>\n",
       "    </tr>\n",
       "    <tr>\n",
       "      <th>96</th>\n",
       "      <td>97</td>\n",
       "      <td>Toyota</td>\n",
       "      <td>Innova Crysta</td>\n",
       "      <td>2017</td>\n",
       "      <td>38000</td>\n",
       "      <td>Diesel</td>\n",
       "      <td>Manual</td>\n",
       "      <td>Second</td>\n",
       "      <td>13</td>\n",
       "      <td>2755</td>\n",
       "      <td>171</td>\n",
       "      <td>7</td>\n",
       "      <td>1400000</td>\n",
       "    </tr>\n",
       "    <tr>\n",
       "      <th>97</th>\n",
       "      <td>98</td>\n",
       "      <td>Ford</td>\n",
       "      <td>EcoSport</td>\n",
       "      <td>2018</td>\n",
       "      <td>26000</td>\n",
       "      <td>Petrol</td>\n",
       "      <td>Manual</td>\n",
       "      <td>Third</td>\n",
       "      <td>18</td>\n",
       "      <td>1497</td>\n",
       "      <td>121</td>\n",
       "      <td>5</td>\n",
       "      <td>750000</td>\n",
       "    </tr>\n",
       "    <tr>\n",
       "      <th>98</th>\n",
       "      <td>99</td>\n",
       "      <td>Hyundai</td>\n",
       "      <td>Verna</td>\n",
       "      <td>2019</td>\n",
       "      <td>24000</td>\n",
       "      <td>Petrol</td>\n",
       "      <td>Automatic</td>\n",
       "      <td>Second</td>\n",
       "      <td>17</td>\n",
       "      <td>1497</td>\n",
       "      <td>113</td>\n",
       "      <td>5</td>\n",
       "      <td>850000</td>\n",
       "    </tr>\n",
       "    <tr>\n",
       "      <th>99</th>\n",
       "      <td>100</td>\n",
       "      <td>Tata</td>\n",
       "      <td>Altroz</td>\n",
       "      <td>2020</td>\n",
       "      <td>18000</td>\n",
       "      <td>Petrol</td>\n",
       "      <td>Manual</td>\n",
       "      <td>First</td>\n",
       "      <td>20</td>\n",
       "      <td>1199</td>\n",
       "      <td>85</td>\n",
       "      <td>5</td>\n",
       "      <td>600000</td>\n",
       "    </tr>\n",
       "  </tbody>\n",
       "</table>\n",
       "<p>100 rows × 13 columns</p>\n",
       "</div>"
      ],
      "text/plain": [
       "    Car_ID     Brand          Model  Year  Kilometers_Driven Fuel_Type  \\\n",
       "0        1    Toyota        Corolla  2018              50000    Petrol   \n",
       "1        2     Honda          Civic  2019              40000    Petrol   \n",
       "2        3      Ford        Mustang  2017              20000    Petrol   \n",
       "3        4    Maruti          Swift  2020              30000    Diesel   \n",
       "4        5   Hyundai         Sonata  2016              60000    Diesel   \n",
       "..     ...       ...            ...   ...                ...       ...   \n",
       "95      96  Mercedes        C-Class  2019              22000    Diesel   \n",
       "96      97    Toyota  Innova Crysta  2017              38000    Diesel   \n",
       "97      98      Ford       EcoSport  2018              26000    Petrol   \n",
       "98      99   Hyundai          Verna  2019              24000    Petrol   \n",
       "99     100      Tata         Altroz  2020              18000    Petrol   \n",
       "\n",
       "   Transmission Owner_Type  Mileage  Engine  Power  Seats    Price  \n",
       "0        Manual      First       15    1498    108      5   800000  \n",
       "1     Automatic     Second       17    1597    140      5  1000000  \n",
       "2     Automatic      First       10    4951    395      4  2500000  \n",
       "3        Manual      Third       23    1248     74      5   600000  \n",
       "4     Automatic     Second       18    1999    194      5   850000  \n",
       "..          ...        ...      ...     ...    ...    ...      ...  \n",
       "95    Automatic      First       16    1950    191      5  2900000  \n",
       "96       Manual     Second       13    2755    171      7  1400000  \n",
       "97       Manual      Third       18    1497    121      5   750000  \n",
       "98    Automatic     Second       17    1497    113      5   850000  \n",
       "99       Manual      First       20    1199     85      5   600000  \n",
       "\n",
       "[100 rows x 13 columns]"
      ]
     },
     "execution_count": 3,
     "metadata": {},
     "output_type": "execute_result"
    }
   ],
   "source": [
    "df =pd.read_csv('cars.csv')\n",
    "df"
   ]
  },
  {
   "cell_type": "code",
   "execution_count": 4,
   "id": "71fc08b0-e363-49dc-b397-8118e59a23d0",
   "metadata": {},
   "outputs": [
    {
     "data": {
      "text/plain": [
       "Index(['Car_ID', 'Brand', 'Model', 'Year', 'Kilometers_Driven', 'Fuel_Type',\n",
       "       'Transmission', 'Owner_Type', 'Mileage', 'Engine', 'Power', 'Seats',\n",
       "       'Price'],\n",
       "      dtype='object')"
      ]
     },
     "execution_count": 4,
     "metadata": {},
     "output_type": "execute_result"
    }
   ],
   "source": [
    "df.columns"
   ]
  },
  {
   "cell_type": "code",
   "execution_count": 5,
   "id": "b96b80d7-7459-4a56-b16f-54034b6eda58",
   "metadata": {},
   "outputs": [
    {
     "data": {
      "text/plain": [
       "Car_ID               0\n",
       "Brand                0\n",
       "Model                0\n",
       "Year                 0\n",
       "Kilometers_Driven    0\n",
       "Fuel_Type            0\n",
       "Transmission         0\n",
       "Owner_Type           0\n",
       "Mileage              0\n",
       "Engine               0\n",
       "Power                0\n",
       "Seats                0\n",
       "Price                0\n",
       "dtype: int64"
      ]
     },
     "execution_count": 5,
     "metadata": {},
     "output_type": "execute_result"
    }
   ],
   "source": [
    "df.isnull().sum()"
   ]
  },
  {
   "cell_type": "code",
   "execution_count": 16,
   "id": "cfb731af-46d0-4656-b091-53740afcc985",
   "metadata": {},
   "outputs": [],
   "source": [
    "df['Kilometers_Driven'].fillna(df['Kilometers_Driven'].median(),inplace=True)\n",
    "df['Engine'].fillna(df['Engine'].median(),inplace=True)\n",
    "df['Power'].fillna(df['Power'].mode()[0],inplace=True)\n",
    "df['Seats'].fillna(df['Seats'].mean(),inplace=True)"
   ]
  },
  {
   "cell_type": "code",
   "execution_count": 18,
   "id": "57a24943-4c30-4357-b6f9-11e9a8b63271",
   "metadata": {},
   "outputs": [
    {
     "data": {
      "image/png": "[encoded data removed]",
      "text/plain": [
       "<Figure size 1100x1300 with 1 Axes>"
      ]
     },
     "metadata": {},
     "output_type": "display_data"
    }
   ],
   "source": [
    "df.boxplot(fontsize=11,figsize=(11,13))\n",
    "plts.show()"
   ]
  },
  {
   "cell_type": "code",
   "execution_count": 20,
   "id": "0fcfcfc0-948d-4d07-8658-f5626df16b20",
   "metadata": {},
   "outputs": [],
   "source": [
    "df_cat=df.select_dtypes(include=object)\n",
    "df_num=df.select_dtypes(exclude=object)"
   ]
  },
  {
   "cell_type": "code",
   "execution_count": 22,
   "id": "0e850f8b-3677-4e22-861b-652af77d41c7",
   "metadata": {},
   "outputs": [
    {
     "data": {
      "text/plain": [
       "Car_ID               int64\n",
       "Year                 int64\n",
       "Kilometers_Driven    int64\n",
       "Mileage              int64\n",
       "Engine               int64\n",
       "Power                int64\n",
       "Seats                int64\n",
       "Price                int64\n",
       "dtype: object"
      ]
     },
     "execution_count": 22,
     "metadata": {},
     "output_type": "execute_result"
    }
   ],
   "source": [
    "df_num.dtypes"
   ]
  },
  {
   "cell_type": "code",
   "execution_count": 24,
   "id": "9e042018-1fd9-4df5-af11-f5df6a5ccf72",
   "metadata": {},
   "outputs": [],
   "source": [
    "df_num=df_num.astype(int)"
   ]
  },
  {
   "cell_type": "code",
   "execution_count": 26,
   "id": "a75b7198-4f79-403e-96c9-efd6b3e2253a",
   "metadata": {},
   "outputs": [
    {
     "data": {
      "text/plain": [
       "Brand           object\n",
       "Model           object\n",
       "Fuel_Type       object\n",
       "Transmission    object\n",
       "Owner_Type      object\n",
       "dtype: object"
      ]
     },
     "execution_count": 26,
     "metadata": {},
     "output_type": "execute_result"
    }
   ],
   "source": [
    "df_cat.dtypes"
   ]
  },
  {
   "cell_type": "code",
   "execution_count": 28,
   "id": "f3e59356-c202-4588-8682-316980e587fd",
   "metadata": {},
   "outputs": [],
   "source": [
    "from sklearn.preprocessing import LabelEncoder\n",
    "le=LabelEncoder()"
   ]
  },
  {
   "cell_type": "code",
   "execution_count": 29,
   "id": "77429144-7cee-4b90-8c69-14164be3b5c1",
   "metadata": {},
   "outputs": [],
   "source": [
    "df_cat['Brand']=le.fit_transform(df_cat['Brand'])\n",
    "df_cat['Model']=le.fit_transform(df_cat['Model'])\n",
    "df_cat['Owner_Type']=le.fit_transform(df_cat['Owner_Type'])\n",
    "df_cat['Transmission']=le.fit_transform(df_cat['Transmission'])\n",
    "df_cat['Fuel_Type']=le.fit_transform(df_cat['Fuel_Type'])"
   ]
  },
  {
   "cell_type": "code",
   "execution_count": 32,
   "id": "01125d98-0b96-4757-a990-a46df300f2ed",
   "metadata": {},
   "outputs": [],
   "source": [
    "df=pd.concat([df_cat,df_num],axis=1)"
   ]
  },
  {
   "cell_type": "code",
   "execution_count": 34,
   "id": "c82345ea-babd-4871-8fa0-c93a4cb2131a",
   "metadata": {},
   "outputs": [
    {
     "data": {
      "image/png": "[encoded data removed]",
      "text/plain": [
       "<Figure size 1500x1200 with 1 Axes>"
      ]
     },
     "metadata": {},
     "output_type": "display_data"
    }
   ],
   "source": [
    "df.boxplot(figsize=(15,12),fontsize=7)\n",
    "plts.show()"
   ]
  },
  {
   "cell_type": "markdown",
   "id": "5e6d1226-62ea-4304-870b-ff494bdfa105",
   "metadata": {},
   "source": [
    "<font size = '5'> Detect and remove outliers in Kilometers_Driven using IQR method.</fontsize>"
   ]
  },
  {
   "cell_type": "code",
   "execution_count": 37,
   "id": "24078429-fb0d-4639-a2a2-185f2bd51efe",
   "metadata": {},
   "outputs": [],
   "source": [
    "q1=df['Kilometers_Driven'].quantile(0.25)\n",
    "q3=df['Kilometers_Driven'].quantile(0.75)\n",
    "iqr=q3-q1\n",
    "LL=q1-1.5*iqr\n",
    "Ul=q3+1.5*iqr\n",
    "\n",
    "df_outlier=df[['Kilometers_Driven']][(df['Kilometers_Driven']>LL)&(df['Kilometers_Driven']<Ul)]"
   ]
  },
  {
   "cell_type": "code",
   "execution_count": 39,
   "id": "1a20215d-c4f8-47e4-9a5f-68914051fd6a",
   "metadata": {},
   "outputs": [
    {
     "data": {
      "image/png": "[encoded data removed]",
      "text/plain": [
       "<Figure size 640x480 with 1 Axes>"
      ]
     },
     "metadata": {},
     "output_type": "display_data"
    }
   ],
   "source": [
    "df_outlier.boxplot()\n",
    "plts.show()"
   ]
  },
  {
   "cell_type": "markdown",
   "id": "e4d453a2-4c32-43e5-8875-8b947c04aee8",
   "metadata": {},
   "source": [
    "<font size = '5'> Detect and remove outliers in 'YEAR' using IQR method.</fontsize>"
   ]
  },
  {
   "cell_type": "code",
   "execution_count": 42,
   "id": "6d916778-483b-41ea-9e1b-ff4718912b51",
   "metadata": {},
   "outputs": [],
   "source": [
    "q1=df['Year'].quantile(0.25)\n",
    "q3=df['Year'].quantile(0.75)\n",
    "iqr=q3-q1\n",
    "LL=q1-1.5*iqr\n",
    "Ul=q3+1.5*iqr\n",
    "df_outlier1=df[['Year']][(df['Year']>LL)&(df['Year']<Ul)]"
   ]
  },
  {
   "cell_type": "code",
   "execution_count": 44,
   "id": "fbb07b79-6b1f-4a5e-9d5b-8b4e9ec8e3d3",
   "metadata": {},
   "outputs": [
    {
     "data": {
      "image/png": "[encoded data removed]",
      "text/plain": [
       "<Figure size 640x480 with 1 Axes>"
      ]
     },
     "metadata": {},
     "output_type": "display_data"
    }
   ],
   "source": [
    "df_outlier1.boxplot()\n",
    "plts.show()\n"
   ]
  },
  {
   "cell_type": "markdown",
   "id": "5c53ff60-ac82-40e5-a450-50816681c5c6",
   "metadata": {},
   "source": [
    "## HEATMAP"
   ]
  },
  {
   "cell_type": "code",
   "execution_count": 46,
   "id": "d23a0dc2-6b4e-461e-9624-8a291008b4b9",
   "metadata": {},
   "outputs": [],
   "source": [
    "Q1=df[['Price']].quantile(0.25)\n",
    "Q1\n",
    "Q3=df[['Price']].quantile(0.75)\n",
    "Q3\n",
    "IQR=Q3-Q1\n",
    "IQR\n",
    "LL=Q1-1.5*IQR\n",
    "UL=Q3+1.5*IQR\n",
    "df2_Price=(df[['Price']][(df[['Price']]>LL)&(df[['Price']]<UL)])"
   ]
  },
  {
   "cell_type": "code",
   "execution_count": 48,
   "id": "8e3c1d13-ccc4-4b60-befe-5eff6878b867",
   "metadata": {},
   "outputs": [],
   "source": [
    "Q1=df2_Price.quantile(0.25)\n",
    "Q1\n",
    "Q3=df2_Price.quantile(0.75)\n",
    "Q3\n",
    "IQR=Q3-Q1\n",
    "IQR\n",
    "LL=Q1-1.5*IQR\n",
    "UL=Q3+1.5*IQR\n",
    "df2_Price1=(df[['Price']][(df2_Price>LL)&(df2_Price<UL)])"
   ]
  },
  {
   "cell_type": "code",
   "execution_count": 50,
   "id": "c462e08c-2ae5-4c73-b805-d1957e12c036",
   "metadata": {},
   "outputs": [],
   "source": [
    "Q1=df2_Price1.quantile(0.25)\n",
    "Q1\n",
    "Q3=df2_Price1.quantile(0.75)\n",
    "Q3\n",
    "IQR=Q3-Q1\n",
    "IQR\n",
    "LL=Q1-1.5*IQR\n",
    "UL=Q3+1.5*IQR\n",
    "df2_Price2=(df[['Price']][(df2_Price1>LL)&(df2_Price1<UL)])"
   ]
  },
  {
   "cell_type": "code",
   "execution_count": 52,
   "id": "61f65d37-f005-423f-8f76-07ce1481415f",
   "metadata": {},
   "outputs": [],
   "source": [
    "Q1=df2_Price2.quantile(0.25)\n",
    "Q1\n",
    "Q3=df2_Price2.quantile(0.75)\n",
    "Q3\n",
    "IQR=Q3-Q1\n",
    "IQR\n",
    "LL=Q1-1.5*IQR\n",
    "UL=Q3+1.5*IQR\n",
    "df2_Price3=(df[['Price']][(df2_Price2>LL)&(df2_Price2<UL)])"
   ]
  },
  {
   "cell_type": "code",
   "execution_count": 54,
   "id": "cba54f16-d51e-4875-b1ab-bd90c3789e23",
   "metadata": {},
   "outputs": [],
   "source": [
    "Q1=df2_Price3.quantile(0.25)\n",
    "Q1\n",
    "Q3=df2_Price3.quantile(0.75)\n",
    "Q3\n",
    "IQR=Q3-Q1\n",
    "IQR\n",
    "LL=Q1-1.5*IQR\n",
    "UL=Q3+1.5*IQR\n",
    "df2_Price4=(df[['Price']][(df2_Price3>LL)&(df2_Price3<UL)])"
   ]
  },
  {
   "cell_type": "code",
   "execution_count": 56,
   "id": "7649d890-05e1-454e-a2bd-11b4c78c04af",
   "metadata": {},
   "outputs": [],
   "source": [
    "Q1=df2_Price4.quantile(0.25)\n",
    "Q1\n",
    "Q3=df2_Price4.quantile(0.75)\n",
    "Q3\n",
    "IQR=Q3-Q1\n",
    "IQR\n",
    "LL=Q1-1.5*IQR\n",
    "UL=Q3+1.5*IQR\n",
    "df2_Price5=(df[['Price']][(df2_Price4>LL)&(df2_Price4<UL)])"
   ]
  },
  {
   "cell_type": "code",
   "execution_count": 58,
   "id": "eb46ef49-9521-4718-8811-cc82c31cfedd",
   "metadata": {},
   "outputs": [],
   "source": [
    "Q1=df2_Price5.quantile(0.25)\n",
    "Q1\n",
    "Q3=df2_Price5.quantile(0.75)\n",
    "Q3\n",
    "IQR=Q3-Q1\n",
    "IQR\n",
    "LL=Q1-1.5*IQR\n",
    "UL=Q3+1.5*IQR\n",
    "df2_Price6=(df[['Price']][(df2_Price5>LL)&(df2_Price5<UL)])"
   ]
  },
  {
   "cell_type": "code",
   "execution_count": 62,
   "id": "9b6bfb62-ffd2-4cef-b89a-a9c63e0a7ca2",
   "metadata": {},
   "outputs": [],
   "source": [
    "Q1=df2_Price6.quantile(0.25)\n",
    "Q1\n",
    "Q3=df2_Price6.quantile(0.75)\n",
    "Q3\n",
    "IQR=Q3-Q1\n",
    "IQR\n",
    "LL=Q1-1.5*IQR\n",
    "UL=Q3+1.5*IQR\n",
    "df2_Price7=(df[['Price']][(df2_Price6>LL)&(df2_Price6<UL)])"
   ]
  },
  {
   "cell_type": "code",
   "execution_count": 64,
   "id": "d83e3fb8-7831-4691-86aa-b5a1ab478a86",
   "metadata": {},
   "outputs": [],
   "source": [
    "Q1=df2_Price7.quantile(0.25)\n",
    "Q1\n",
    "Q3=df2_Price7.quantile(0.75)\n",
    "Q3\n",
    "IQR=Q3-Q1\n",
    "IQR\n",
    "LL=Q1-1.5*IQR\n",
    "UL=Q3+1.5*IQR\n",
    "df2_Price8=(df[['Price']][(df2_Price7>LL)&(df2_Price7<UL)])"
   ]
  },
  {
   "cell_type": "code",
   "execution_count": 68,
   "id": "3e489e1a-b5bf-47a2-a8c3-b750fe227478",
   "metadata": {},
   "outputs": [
    {
     "data": {
      "image/png": "[encoded data removed]",
      "text/plain": [
       "<Figure size 640x480 with 2 Axes>"
      ]
     },
     "metadata": {},
     "output_type": "display_data"
    }
   ],
   "source": [
    "sea.heatmap(df.corr(),annot=True,annot_kws={'fontsize':5})\n",
    "plts.show()"
   ]
  },
  {
   "cell_type": "code",
   "execution_count": 74,
   "id": "59263954-d166-4cfb-924c-0d337a04d277",
   "metadata": {},
   "outputs": [
    {
     "data": {
      "image/png": "[encoded data removed]",
      "text/plain": [
       "<Figure size 640x480 with 1 Axes>"
      ]
     },
     "metadata": {},
     "output_type": "display_data"
    }
   ],
   "source": [
    "df_price=df[['Price']]\n",
    "df_price.boxplot()\n",
    "plts.show()"
   ]
  },
  {
   "cell_type": "code",
   "execution_count": 80,
   "id": "2fe20565-fe27-484b-8d01-6a6dd2c95853",
   "metadata": {},
   "outputs": [],
   "source": [
    "df_num=pd.concat([df_cat,df_outlier1,df_price,df2_Price8,df[['Power']],df[['Car_ID']],df[['Mileage']]],axis=1)"
   ]
  },
  {
   "cell_type": "code",
   "execution_count": 82,
   "id": "54ae8db0-b8ef-4bb7-aa86-4d998ac02a8a",
   "metadata": {},
   "outputs": [
    {
     "data": {
      "text/html": [
       "<div>\n",
       "<style scoped>\n",
       "    .dataframe tbody tr th:only-of-type {\n",
       "        vertical-align: middle;\n",
       "    }\n",
       "\n",
       "    .dataframe tbody tr th {\n",
       "        vertical-align: top;\n",
       "    }\n",
       "\n",
       "    .dataframe thead th {\n",
       "        text-align: right;\n",
       "    }\n",
       "</style>\n",
       "<table border=\"1\" class=\"dataframe\">\n",
       "  <thead>\n",
       "    <tr style=\"text-align: right;\">\n",
       "      <th></th>\n",
       "      <th>Brand</th>\n",
       "      <th>Model</th>\n",
       "      <th>Fuel_Type</th>\n",
       "      <th>Transmission</th>\n",
       "      <th>Owner_Type</th>\n",
       "      <th>Year</th>\n",
       "      <th>Price</th>\n",
       "      <th>Price</th>\n",
       "      <th>Power</th>\n",
       "      <th>Car_ID</th>\n",
       "      <th>Mileage</th>\n",
       "    </tr>\n",
       "  </thead>\n",
       "  <tbody>\n",
       "    <tr>\n",
       "      <th>0</th>\n",
       "      <td>9</td>\n",
       "      <td>15</td>\n",
       "      <td>1</td>\n",
       "      <td>1</td>\n",
       "      <td>0</td>\n",
       "      <td>2018.0</td>\n",
       "      <td>800000</td>\n",
       "      <td>800000</td>\n",
       "      <td>108</td>\n",
       "      <td>1</td>\n",
       "      <td>15</td>\n",
       "    </tr>\n",
       "    <tr>\n",
       "      <th>1</th>\n",
       "      <td>3</td>\n",
       "      <td>14</td>\n",
       "      <td>1</td>\n",
       "      <td>0</td>\n",
       "      <td>1</td>\n",
       "      <td>2019.0</td>\n",
       "      <td>1000000</td>\n",
       "      <td>1000000</td>\n",
       "      <td>140</td>\n",
       "      <td>2</td>\n",
       "      <td>17</td>\n",
       "    </tr>\n",
       "    <tr>\n",
       "      <th>2</th>\n",
       "      <td>2</td>\n",
       "      <td>30</td>\n",
       "      <td>1</td>\n",
       "      <td>0</td>\n",
       "      <td>0</td>\n",
       "      <td>2017.0</td>\n",
       "      <td>2500000</td>\n",
       "      <td>2500000</td>\n",
       "      <td>395</td>\n",
       "      <td>3</td>\n",
       "      <td>10</td>\n",
       "    </tr>\n",
       "    <tr>\n",
       "      <th>3</th>\n",
       "      <td>6</td>\n",
       "      <td>42</td>\n",
       "      <td>0</td>\n",
       "      <td>1</td>\n",
       "      <td>2</td>\n",
       "      <td>2020.0</td>\n",
       "      <td>600000</td>\n",
       "      <td>600000</td>\n",
       "      <td>74</td>\n",
       "      <td>4</td>\n",
       "      <td>23</td>\n",
       "    </tr>\n",
       "    <tr>\n",
       "      <th>4</th>\n",
       "      <td>4</td>\n",
       "      <td>41</td>\n",
       "      <td>0</td>\n",
       "      <td>0</td>\n",
       "      <td>1</td>\n",
       "      <td>2016.0</td>\n",
       "      <td>850000</td>\n",
       "      <td>850000</td>\n",
       "      <td>194</td>\n",
       "      <td>5</td>\n",
       "      <td>18</td>\n",
       "    </tr>\n",
       "    <tr>\n",
       "      <th>...</th>\n",
       "      <td>...</td>\n",
       "      <td>...</td>\n",
       "      <td>...</td>\n",
       "      <td>...</td>\n",
       "      <td>...</td>\n",
       "      <td>...</td>\n",
       "      <td>...</td>\n",
       "      <td>...</td>\n",
       "      <td>...</td>\n",
       "      <td>...</td>\n",
       "      <td>...</td>\n",
       "    </tr>\n",
       "    <tr>\n",
       "      <th>95</th>\n",
       "      <td>7</td>\n",
       "      <td>11</td>\n",
       "      <td>0</td>\n",
       "      <td>0</td>\n",
       "      <td>0</td>\n",
       "      <td>2019.0</td>\n",
       "      <td>2900000</td>\n",
       "      <td>2900000</td>\n",
       "      <td>191</td>\n",
       "      <td>96</td>\n",
       "      <td>16</td>\n",
       "    </tr>\n",
       "    <tr>\n",
       "      <th>96</th>\n",
       "      <td>9</td>\n",
       "      <td>29</td>\n",
       "      <td>0</td>\n",
       "      <td>1</td>\n",
       "      <td>1</td>\n",
       "      <td>2017.0</td>\n",
       "      <td>1400000</td>\n",
       "      <td>1400000</td>\n",
       "      <td>171</td>\n",
       "      <td>97</td>\n",
       "      <td>13</td>\n",
       "    </tr>\n",
       "    <tr>\n",
       "      <th>97</th>\n",
       "      <td>2</td>\n",
       "      <td>18</td>\n",
       "      <td>1</td>\n",
       "      <td>1</td>\n",
       "      <td>2</td>\n",
       "      <td>2018.0</td>\n",
       "      <td>750000</td>\n",
       "      <td>750000</td>\n",
       "      <td>121</td>\n",
       "      <td>98</td>\n",
       "      <td>18</td>\n",
       "    </tr>\n",
       "    <tr>\n",
       "      <th>98</th>\n",
       "      <td>4</td>\n",
       "      <td>50</td>\n",
       "      <td>1</td>\n",
       "      <td>0</td>\n",
       "      <td>1</td>\n",
       "      <td>2019.0</td>\n",
       "      <td>850000</td>\n",
       "      <td>850000</td>\n",
       "      <td>113</td>\n",
       "      <td>99</td>\n",
       "      <td>17</td>\n",
       "    </tr>\n",
       "    <tr>\n",
       "      <th>99</th>\n",
       "      <td>8</td>\n",
       "      <td>7</td>\n",
       "      <td>1</td>\n",
       "      <td>1</td>\n",
       "      <td>0</td>\n",
       "      <td>2020.0</td>\n",
       "      <td>600000</td>\n",
       "      <td>600000</td>\n",
       "      <td>85</td>\n",
       "      <td>100</td>\n",
       "      <td>20</td>\n",
       "    </tr>\n",
       "  </tbody>\n",
       "</table>\n",
       "<p>100 rows × 11 columns</p>\n",
       "</div>"
      ],
      "text/plain": [
       "    Brand  Model  Fuel_Type  Transmission  Owner_Type    Year    Price  \\\n",
       "0       9     15          1             1           0  2018.0   800000   \n",
       "1       3     14          1             0           1  2019.0  1000000   \n",
       "2       2     30          1             0           0  2017.0  2500000   \n",
       "3       6     42          0             1           2  2020.0   600000   \n",
       "4       4     41          0             0           1  2016.0   850000   \n",
       "..    ...    ...        ...           ...         ...     ...      ...   \n",
       "95      7     11          0             0           0  2019.0  2900000   \n",
       "96      9     29          0             1           1  2017.0  1400000   \n",
       "97      2     18          1             1           2  2018.0   750000   \n",
       "98      4     50          1             0           1  2019.0   850000   \n",
       "99      8      7          1             1           0  2020.0   600000   \n",
       "\n",
       "      Price  Power  Car_ID  Mileage  \n",
       "0    800000    108       1       15  \n",
       "1   1000000    140       2       17  \n",
       "2   2500000    395       3       10  \n",
       "3    600000     74       4       23  \n",
       "4    850000    194       5       18  \n",
       "..      ...    ...     ...      ...  \n",
       "95  2900000    191      96       16  \n",
       "96  1400000    171      97       13  \n",
       "97   750000    121      98       18  \n",
       "98   850000    113      99       17  \n",
       "99   600000     85     100       20  \n",
       "\n",
       "[100 rows x 11 columns]"
      ]
     },
     "execution_count": 82,
     "metadata": {},
     "output_type": "execute_result"
    }
   ],
   "source": [
    "df_num"
   ]
  },
  {
   "cell_type": "code",
   "execution_count": 84,
   "id": "508b9a5b-67c2-4363-86b8-c42d749adc5c",
   "metadata": {},
   "outputs": [
    {
     "data": {
      "text/plain": [
       "Brand           0\n",
       "Model           0\n",
       "Fuel_Type       0\n",
       "Transmission    0\n",
       "Owner_Type      0\n",
       "Year            2\n",
       "Price           0\n",
       "Price           0\n",
       "Power           0\n",
       "Car_ID          0\n",
       "Mileage         0\n",
       "dtype: int64"
      ]
     },
     "execution_count": 84,
     "metadata": {},
     "output_type": "execute_result"
    }
   ],
   "source": [
    "df_num.isnull().sum()"
   ]
  },
  {
   "cell_type": "code",
   "execution_count": 86,
   "id": "641d2073-df30-44a6-8794-34f74cc05778",
   "metadata": {},
   "outputs": [
    {
     "data": {
      "text/plain": [
       "Brand             int32\n",
       "Model             int32\n",
       "Fuel_Type         int32\n",
       "Transmission      int32\n",
       "Owner_Type        int32\n",
       "Year            float64\n",
       "Price             int32\n",
       "Price             int32\n",
       "Power             int32\n",
       "Car_ID            int32\n",
       "Mileage           int32\n",
       "dtype: object"
      ]
     },
     "execution_count": 86,
     "metadata": {},
     "output_type": "execute_result"
    }
   ],
   "source": [
    "df_num.dtypes"
   ]
  },
  {
   "cell_type": "code",
   "execution_count": 92,
   "id": "7e20089b-adc7-4a35-b42d-85b26621dd48",
   "metadata": {},
   "outputs": [],
   "source": [
    "df_num.dropna(subset=['Year'],inplace=True)"
   ]
  },
  {
   "cell_type": "code",
   "execution_count": 94,
   "id": "e0dbd9f9-6140-4331-829b-608e7738c3e5",
   "metadata": {},
   "outputs": [
    {
     "data": {
      "text/plain": [
       "Brand           0\n",
       "Model           0\n",
       "Fuel_Type       0\n",
       "Transmission    0\n",
       "Owner_Type      0\n",
       "Year            0\n",
       "Price           0\n",
       "Price           0\n",
       "Power           0\n",
       "Car_ID          0\n",
       "Mileage         0\n",
       "dtype: int64"
      ]
     },
     "execution_count": 94,
     "metadata": {},
     "output_type": "execute_result"
    }
   ],
   "source": [
    "df_num.isnull().sum()"
   ]
  },
  {
   "cell_type": "code",
   "execution_count": 96,
   "id": "0e82891b-9109-4618-adee-11656600dc0f",
   "metadata": {},
   "outputs": [],
   "source": [
    "df_num=df_num.astype(int)"
   ]
  },
  {
   "cell_type": "code",
   "execution_count": 98,
   "id": "bf7198ff-562b-44ae-b248-65491b9c4c59",
   "metadata": {},
   "outputs": [],
   "source": [
    "df3_Price=df_num[['Price']]"
   ]
  },
  {
   "cell_type": "code",
   "execution_count": 100,
   "id": "13724244-012d-48f7-a13c-5de3b216bc28",
   "metadata": {},
   "outputs": [],
   "source": [
    "df_num.drop(columns='Price',inplace=True)"
   ]
  },
  {
   "cell_type": "code",
   "execution_count": 102,
   "id": "5fa59740-0738-404e-8576-53069659b162",
   "metadata": {},
   "outputs": [
    {
     "data": {
      "text/plain": [
       "Index(['Brand', 'Model', 'Fuel_Type', 'Transmission', 'Owner_Type', 'Car_ID',\n",
       "       'Year', 'Kilometers_Driven', 'Mileage', 'Engine', 'Power', 'Seats',\n",
       "       'Price'],\n",
       "      dtype='object')"
      ]
     },
     "execution_count": 102,
     "metadata": {},
     "output_type": "execute_result"
    }
   ],
   "source": [
    "df.columns"
   ]
  },
  {
   "cell_type": "code",
   "execution_count": 104,
   "id": "86b75016-38ba-4527-8089-b0a2bd45b82c",
   "metadata": {},
   "outputs": [],
   "source": [
    "df1=pd.concat([df_num,df3_Price],axis=1)"
   ]
  },
  {
   "cell_type": "code",
   "execution_count": 106,
   "id": "5bb7b533-9b52-4e4c-a2ec-9fa43fec737d",
   "metadata": {},
   "outputs": [],
   "source": [
    "from sklearn.preprocessing import StandardScaler\n",
    "ss=StandardScaler()\n",
    "df_stand=pd.DataFrame(ss.fit_transform(df1),columns=df1.columns)"
   ]
  },
  {
   "cell_type": "code",
   "execution_count": 108,
   "id": "e285112b-3b93-44b4-a85b-f372d0642f3d",
   "metadata": {},
   "outputs": [
    {
     "data": {
      "text/plain": [
       "Brand           0\n",
       "Model           0\n",
       "Fuel_Type       0\n",
       "Transmission    0\n",
       "Owner_Type      0\n",
       "Year            0\n",
       "Power           0\n",
       "Car_ID          0\n",
       "Mileage         0\n",
       "Price           0\n",
       "Price           0\n",
       "dtype: int64"
      ]
     },
     "execution_count": 108,
     "metadata": {},
     "output_type": "execute_result"
    }
   ],
   "source": [
    "df_stand.isnull().sum()"
   ]
  },
  {
   "cell_type": "code",
   "execution_count": 110,
   "id": "ec753225-9932-4ff1-a5b4-c6c2cd4c48e3",
   "metadata": {},
   "outputs": [
    {
     "data": {
      "text/plain": [
       "Brand                0\n",
       "Model                0\n",
       "Fuel_Type            0\n",
       "Transmission         0\n",
       "Owner_Type           0\n",
       "Car_ID               0\n",
       "Year                 0\n",
       "Kilometers_Driven    0\n",
       "Mileage              0\n",
       "Engine               0\n",
       "Power                0\n",
       "Seats                0\n",
       "Price                0\n",
       "dtype: int64"
      ]
     },
     "execution_count": 110,
     "metadata": {},
     "output_type": "execute_result"
    }
   ],
   "source": [
    "df.isnull().sum()"
   ]
  },
  {
   "cell_type": "code",
   "execution_count": 118,
   "id": "08659048-bca6-4b45-8a46-0074faa80ec1",
   "metadata": {},
   "outputs": [
    {
     "data": {
      "image/png": "[encoded data removed]",
      "text/plain": [
       "<Figure size 1300x1300 with 1 Axes>"
      ]
     },
     "metadata": {},
     "output_type": "display_data"
    }
   ],
   "source": [
    "df_stand.boxplot(fontsize=6,figsize=(13,13))\n",
    "plts.show()"
   ]
  },
  {
   "cell_type": "code",
   "execution_count": 130,
   "id": "5e2960a5-d4cd-462c-9163-1993eeaa6909",
   "metadata": {},
   "outputs": [],
   "source": [
    "x=df_stand[['Brand', 'Model', 'Fuel_Type', 'Transmission', 'Owner_Type', 'Year', 'Power', 'Car_ID', 'Mileage']]\n",
    "y=df_stand['Price']"
   ]
  },
  {
   "cell_type": "code",
   "execution_count": 132,
   "id": "baee092d-dd3e-4f17-b373-37a26b09b2f3",
   "metadata": {},
   "outputs": [
    {
     "name": "stdout",
     "output_type": "stream",
     "text": [
      "Index(['Brand', 'Model', 'Fuel_Type', 'Transmission', 'Owner_Type', 'Year',\n",
      "       'Power', 'Car_ID', 'Mileage', 'Price', 'Price'],\n",
      "      dtype='object')\n"
     ]
    }
   ],
   "source": [
    "print(df_stand.columns)"
   ]
  },
  {
   "cell_type": "code",
   "execution_count": 134,
   "id": "93de6ebd-ff4e-497d-8bca-c3c22b1870e6",
   "metadata": {},
   "outputs": [],
   "source": [
    "from sklearn.linear_model import LinearRegression\n",
    "model=LinearRegression()"
   ]
  },
  {
   "cell_type": "code",
   "execution_count": 136,
   "id": "bc69d08b-4c31-4a09-a2eb-6dacf0031c66",
   "metadata": {},
   "outputs": [
    {
     "data": {
      "text/html": [
       "<style>#sk-container-id-1 {\n",
       "  /* Definition of color scheme common for light and dark mode */\n",
       "  --sklearn-color-text: black;\n",
       "  --sklearn-color-line: gray;\n",
       "  /* Definition of color scheme for unfitted estimators */\n",
       "  --sklearn-color-unfitted-level-0: #fff5e6;\n",
       "  --sklearn-color-unfitted-level-1: #f6e4d2;\n",
       "  --sklearn-color-unfitted-level-2: #ffe0b3;\n",
       "  --sklearn-color-unfitted-level-3: chocolate;\n",
       "  /* Definition of color scheme for fitted estimators */\n",
       "  --sklearn-color-fitted-level-0: #f0f8ff;\n",
       "  --sklearn-color-fitted-level-1: #d4ebff;\n",
       "  --sklearn-color-fitted-level-2: #b3dbfd;\n",
       "  --sklearn-color-fitted-level-3: cornflowerblue;\n",
       "\n",
       "  /* Specific color for light theme */\n",
       "  --sklearn-color-text-on-default-background: var(--sg-text-color, var(--theme-code-foreground, var(--jp-content-font-color1, black)));\n",
       "  --sklearn-color-background: var(--sg-background-color, var(--theme-background, var(--jp-layout-color0, white)));\n",
       "  --sklearn-color-border-box: var(--sg-text-color, var(--theme-code-foreground, var(--jp-content-font-color1, black)));\n",
       "  --sklearn-color-icon: #696969;\n",
       "\n",
       "  @media (prefers-color-scheme: dark) {\n",
       "    /* Redefinition of color scheme for dark theme */\n",
       "    --sklearn-color-text-on-default-background: var(--sg-text-color, var(--theme-code-foreground, var(--jp-content-font-color1, white)));\n",
       "    --sklearn-color-background: var(--sg-background-color, var(--theme-background, var(--jp-layout-color0, #111)));\n",
       "    --sklearn-color-border-box: var(--sg-text-color, var(--theme-code-foreground, var(--jp-content-font-color1, white)));\n",
       "    --sklearn-color-icon: #878787;\n",
       "  }\n",
       "}\n",
       "\n",
       "#sk-container-id-1 {\n",
       "  color: var(--sklearn-color-text);\n",
       "}\n",
       "\n",
       "#sk-container-id-1 pre {\n",
       "  padding: 0;\n",
       "}\n",
       "\n",
       "#sk-container-id-1 input.sk-hidden--visually {\n",
       "  border: 0;\n",
       "  clip: rect(1px 1px 1px 1px);\n",
       "  clip: rect(1px, 1px, 1px, 1px);\n",
       "  height: 1px;\n",
       "  margin: -1px;\n",
       "  overflow: hidden;\n",
       "  padding: 0;\n",
       "  position: absolute;\n",
       "  width: 1px;\n",
       "}\n",
       "\n",
       "#sk-container-id-1 div.sk-dashed-wrapped {\n",
       "  border: 1px dashed var(--sklearn-color-line);\n",
       "  margin: 0 0.4em 0.5em 0.4em;\n",
       "  box-sizing: border-box;\n",
       "  padding-bottom: 0.4em;\n",
       "  background-color: var(--sklearn-color-background);\n",
       "}\n",
       "\n",
       "#sk-container-id-1 div.sk-container {\n",
       "  /* jupyter's `normalize.less` sets `[hidden] { display: none; }`\n",
       "     but bootstrap.min.css set `[hidden] { display: none !important; }`\n",
       "     so we also need the `!important` here to be able to override the\n",
       "     default hidden behavior on the sphinx rendered scikit-learn.org.\n",
       "     See: https://github.com/scikit-learn/scikit-learn/issues/21755 */\n",
       "  display: inline-block !important;\n",
       "  position: relative;\n",
       "}\n",
       "\n",
       "#sk-container-id-1 div.sk-text-repr-fallback {\n",
       "  display: none;\n",
       "}\n",
       "\n",
       "div.sk-parallel-item,\n",
       "div.sk-serial,\n",
       "div.sk-item {\n",
       "  /* draw centered vertical line to link estimators */\n",
       "  background-image: linear-gradient(var(--sklearn-color-text-on-default-background), var(--sklearn-color-text-on-default-background));\n",
       "  background-size: 2px 100%;\n",
       "  background-repeat: no-repeat;\n",
       "  background-position: center center;\n",
       "}\n",
       "\n",
       "/* Parallel-specific style estimator block */\n",
       "\n",
       "#sk-container-id-1 div.sk-parallel-item::after {\n",
       "  content: \"\";\n",
       "  width: 100%;\n",
       "  border-bottom: 2px solid var(--sklearn-color-text-on-default-background);\n",
       "  flex-grow: 1;\n",
       "}\n",
       "\n",
       "#sk-container-id-1 div.sk-parallel {\n",
       "  display: flex;\n",
       "  align-items: stretch;\n",
       "  justify-content: center;\n",
       "  background-color: var(--sklearn-color-background);\n",
       "  position: relative;\n",
       "}\n",
       "\n",
       "#sk-container-id-1 div.sk-parallel-item {\n",
       "  display: flex;\n",
       "  flex-direction: column;\n",
       "}\n",
       "\n",
       "#sk-container-id-1 div.sk-parallel-item:first-child::after {\n",
       "  align-self: flex-end;\n",
       "  width: 50%;\n",
       "}\n",
       "\n",
       "#sk-container-id-1 div.sk-parallel-item:last-child::after {\n",
       "  align-self: flex-start;\n",
       "  width: 50%;\n",
       "}\n",
       "\n",
       "#sk-container-id-1 div.sk-parallel-item:only-child::after {\n",
       "  width: 0;\n",
       "}\n",
       "\n",
       "/* Serial-specific style estimator block */\n",
       "\n",
       "#sk-container-id-1 div.sk-serial {\n",
       "  display: flex;\n",
       "  flex-direction: column;\n",
       "  align-items: center;\n",
       "  background-color: var(--sklearn-color-background);\n",
       "  padding-right: 1em;\n",
       "  padding-left: 1em;\n",
       "}\n",
       "\n",
       "\n",
       "/* Toggleable style: style used for estimator/Pipeline/ColumnTransformer box that is\n",
       "clickable and can be expanded/collapsed.\n",
       "- Pipeline and ColumnTransformer use this feature and define the default style\n",
       "- Estimators will overwrite some part of the style using the `sk-estimator` class\n",
       "*/\n",
       "\n",
       "/* Pipeline and ColumnTransformer style (default) */\n",
       "\n",
       "#sk-container-id-1 div.sk-toggleable {\n",
       "  /* Default theme specific background. It is overwritten whether we have a\n",
       "  specific estimator or a Pipeline/ColumnTransformer */\n",
       "  background-color: var(--sklearn-color-background);\n",
       "}\n",
       "\n",
       "/* Toggleable label */\n",
       "#sk-container-id-1 label.sk-toggleable__label {\n",
       "  cursor: pointer;\n",
       "  display: block;\n",
       "  width: 100%;\n",
       "  margin-bottom: 0;\n",
       "  padding: 0.5em;\n",
       "  box-sizing: border-box;\n",
       "  text-align: center;\n",
       "}\n",
       "\n",
       "#sk-container-id-1 label.sk-toggleable__label-arrow:before {\n",
       "  /* Arrow on the left of the label */\n",
       "  content: \"▸\";\n",
       "  float: left;\n",
       "  margin-right: 0.25em;\n",
       "  color: var(--sklearn-color-icon);\n",
       "}\n",
       "\n",
       "#sk-container-id-1 label.sk-toggleable__label-arrow:hover:before {\n",
       "  color: var(--sklearn-color-text);\n",
       "}\n",
       "\n",
       "/* Toggleable content - dropdown */\n",
       "\n",
       "#sk-container-id-1 div.sk-toggleable__content {\n",
       "  max-height: 0;\n",
       "  max-width: 0;\n",
       "  overflow: hidden;\n",
       "  text-align: left;\n",
       "  /* unfitted */\n",
       "  background-color: var(--sklearn-color-unfitted-level-0);\n",
       "}\n",
       "\n",
       "#sk-container-id-1 div.sk-toggleable__content.fitted {\n",
       "  /* fitted */\n",
       "  background-color: var(--sklearn-color-fitted-level-0);\n",
       "}\n",
       "\n",
       "#sk-container-id-1 div.sk-toggleable__content pre {\n",
       "  margin: 0.2em;\n",
       "  border-radius: 0.25em;\n",
       "  color: var(--sklearn-color-text);\n",
       "  /* unfitted */\n",
       "  background-color: var(--sklearn-color-unfitted-level-0);\n",
       "}\n",
       "\n",
       "#sk-container-id-1 div.sk-toggleable__content.fitted pre {\n",
       "  /* unfitted */\n",
       "  background-color: var(--sklearn-color-fitted-level-0);\n",
       "}\n",
       "\n",
       "#sk-container-id-1 input.sk-toggleable__control:checked~div.sk-toggleable__content {\n",
       "  /* Expand drop-down */\n",
       "  max-height: 200px;\n",
       "  max-width: 100%;\n",
       "  overflow: auto;\n",
       "}\n",
       "\n",
       "#sk-container-id-1 input.sk-toggleable__control:checked~label.sk-toggleable__label-arrow:before {\n",
       "  content: \"▾\";\n",
       "}\n",
       "\n",
       "/* Pipeline/ColumnTransformer-specific style */\n",
       "\n",
       "#sk-container-id-1 div.sk-label input.sk-toggleable__control:checked~label.sk-toggleable__label {\n",
       "  color: var(--sklearn-color-text);\n",
       "  background-color: var(--sklearn-color-unfitted-level-2);\n",
       "}\n",
       "\n",
       "#sk-container-id-1 div.sk-label.fitted input.sk-toggleable__control:checked~label.sk-toggleable__label {\n",
       "  background-color: var(--sklearn-color-fitted-level-2);\n",
       "}\n",
       "\n",
       "/* Estimator-specific style */\n",
       "\n",
       "/* Colorize estimator box */\n",
       "#sk-container-id-1 div.sk-estimator input.sk-toggleable__control:checked~label.sk-toggleable__label {\n",
       "  /* unfitted */\n",
       "  background-color: var(--sklearn-color-unfitted-level-2);\n",
       "}\n",
       "\n",
       "#sk-container-id-1 div.sk-estimator.fitted input.sk-toggleable__control:checked~label.sk-toggleable__label {\n",
       "  /* fitted */\n",
       "  background-color: var(--sklearn-color-fitted-level-2);\n",
       "}\n",
       "\n",
       "#sk-container-id-1 div.sk-label label.sk-toggleable__label,\n",
       "#sk-container-id-1 div.sk-label label {\n",
       "  /* The background is the default theme color */\n",
       "  color: var(--sklearn-color-text-on-default-background);\n",
       "}\n",
       "\n",
       "/* On hover, darken the color of the background */\n",
       "#sk-container-id-1 div.sk-label:hover label.sk-toggleable__label {\n",
       "  color: var(--sklearn-color-text);\n",
       "  background-color: var(--sklearn-color-unfitted-level-2);\n",
       "}\n",
       "\n",
       "/* Label box, darken color on hover, fitted */\n",
       "#sk-container-id-1 div.sk-label.fitted:hover label.sk-toggleable__label.fitted {\n",
       "  color: var(--sklearn-color-text);\n",
       "  background-color: var(--sklearn-color-fitted-level-2);\n",
       "}\n",
       "\n",
       "/* Estimator label */\n",
       "\n",
       "#sk-container-id-1 div.sk-label label {\n",
       "  font-family: monospace;\n",
       "  font-weight: bold;\n",
       "  display: inline-block;\n",
       "  line-height: 1.2em;\n",
       "}\n",
       "\n",
       "#sk-container-id-1 div.sk-label-container {\n",
       "  text-align: center;\n",
       "}\n",
       "\n",
       "/* Estimator-specific */\n",
       "#sk-container-id-1 div.sk-estimator {\n",
       "  font-family: monospace;\n",
       "  border: 1px dotted var(--sklearn-color-border-box);\n",
       "  border-radius: 0.25em;\n",
       "  box-sizing: border-box;\n",
       "  margin-bottom: 0.5em;\n",
       "  /* unfitted */\n",
       "  background-color: var(--sklearn-color-unfitted-level-0);\n",
       "}\n",
       "\n",
       "#sk-container-id-1 div.sk-estimator.fitted {\n",
       "  /* fitted */\n",
       "  background-color: var(--sklearn-color-fitted-level-0);\n",
       "}\n",
       "\n",
       "/* on hover */\n",
       "#sk-container-id-1 div.sk-estimator:hover {\n",
       "  /* unfitted */\n",
       "  background-color: var(--sklearn-color-unfitted-level-2);\n",
       "}\n",
       "\n",
       "#sk-container-id-1 div.sk-estimator.fitted:hover {\n",
       "  /* fitted */\n",
       "  background-color: var(--sklearn-color-fitted-level-2);\n",
       "}\n",
       "\n",
       "/* Specification for estimator info (e.g. \"i\" and \"?\") */\n",
       "\n",
       "/* Common style for \"i\" and \"?\" */\n",
       "\n",
       ".sk-estimator-doc-link,\n",
       "a:link.sk-estimator-doc-link,\n",
       "a:visited.sk-estimator-doc-link {\n",
       "  float: right;\n",
       "  font-size: smaller;\n",
       "  line-height: 1em;\n",
       "  font-family: monospace;\n",
       "  background-color: var(--sklearn-color-background);\n",
       "  border-radius: 1em;\n",
       "  height: 1em;\n",
       "  width: 1em;\n",
       "  text-decoration: none !important;\n",
       "  margin-left: 1ex;\n",
       "  /* unfitted */\n",
       "  border: var(--sklearn-color-unfitted-level-1) 1pt solid;\n",
       "  color: var(--sklearn-color-unfitted-level-1);\n",
       "}\n",
       "\n",
       ".sk-estimator-doc-link.fitted,\n",
       "a:link.sk-estimator-doc-link.fitted,\n",
       "a:visited.sk-estimator-doc-link.fitted {\n",
       "  /* fitted */\n",
       "  border: var(--sklearn-color-fitted-level-1) 1pt solid;\n",
       "  color: var(--sklearn-color-fitted-level-1);\n",
       "}\n",
       "\n",
       "/* On hover */\n",
       "div.sk-estimator:hover .sk-estimator-doc-link:hover,\n",
       ".sk-estimator-doc-link:hover,\n",
       "div.sk-label-container:hover .sk-estimator-doc-link:hover,\n",
       ".sk-estimator-doc-link:hover {\n",
       "  /* unfitted */\n",
       "  background-color: var(--sklearn-color-unfitted-level-3);\n",
       "  color: var(--sklearn-color-background);\n",
       "  text-decoration: none;\n",
       "}\n",
       "\n",
       "div.sk-estimator.fitted:hover .sk-estimator-doc-link.fitted:hover,\n",
       ".sk-estimator-doc-link.fitted:hover,\n",
       "div.sk-label-container:hover .sk-estimator-doc-link.fitted:hover,\n",
       ".sk-estimator-doc-link.fitted:hover {\n",
       "  /* fitted */\n",
       "  background-color: var(--sklearn-color-fitted-level-3);\n",
       "  color: var(--sklearn-color-background);\n",
       "  text-decoration: none;\n",
       "}\n",
       "\n",
       "/* Span, style for the box shown on hovering the info icon */\n",
       ".sk-estimator-doc-link span {\n",
       "  display: none;\n",
       "  z-index: 9999;\n",
       "  position: relative;\n",
       "  font-weight: normal;\n",
       "  right: .2ex;\n",
       "  padding: .5ex;\n",
       "  margin: .5ex;\n",
       "  width: min-content;\n",
       "  min-width: 20ex;\n",
       "  max-width: 50ex;\n",
       "  color: var(--sklearn-color-text);\n",
       "  box-shadow: 2pt 2pt 4pt #999;\n",
       "  /* unfitted */\n",
       "  background: var(--sklearn-color-unfitted-level-0);\n",
       "  border: .5pt solid var(--sklearn-color-unfitted-level-3);\n",
       "}\n",
       "\n",
       ".sk-estimator-doc-link.fitted span {\n",
       "  /* fitted */\n",
       "  background: var(--sklearn-color-fitted-level-0);\n",
       "  border: var(--sklearn-color-fitted-level-3);\n",
       "}\n",
       "\n",
       ".sk-estimator-doc-link:hover span {\n",
       "  display: block;\n",
       "}\n",
       "\n",
       "/* \"?\"-specific style due to the `<a>` HTML tag */\n",
       "\n",
       "#sk-container-id-1 a.estimator_doc_link {\n",
       "  float: right;\n",
       "  font-size: 1rem;\n",
       "  line-height: 1em;\n",
       "  font-family: monospace;\n",
       "  background-color: var(--sklearn-color-background);\n",
       "  border-radius: 1rem;\n",
       "  height: 1rem;\n",
       "  width: 1rem;\n",
       "  text-decoration: none;\n",
       "  /* unfitted */\n",
       "  color: var(--sklearn-color-unfitted-level-1);\n",
       "  border: var(--sklearn-color-unfitted-level-1) 1pt solid;\n",
       "}\n",
       "\n",
       "#sk-container-id-1 a.estimator_doc_link.fitted {\n",
       "  /* fitted */\n",
       "  border: var(--sklearn-color-fitted-level-1) 1pt solid;\n",
       "  color: var(--sklearn-color-fitted-level-1);\n",
       "}\n",
       "\n",
       "/* On hover */\n",
       "#sk-container-id-1 a.estimator_doc_link:hover {\n",
       "  /* unfitted */\n",
       "  background-color: var(--sklearn-color-unfitted-level-3);\n",
       "  color: var(--sklearn-color-background);\n",
       "  text-decoration: none;\n",
       "}\n",
       "\n",
       "#sk-container-id-1 a.estimator_doc_link.fitted:hover {\n",
       "  /* fitted */\n",
       "  background-color: var(--sklearn-color-fitted-level-3);\n",
       "}\n",
       "</style><div id=\"sk-container-id-1\" class=\"sk-top-container\"><div class=\"sk-text-repr-fallback\"><pre>LinearRegression()</pre><b>In a Jupyter environment, please rerun this cell to show the HTML representation or trust the notebook. <br />On GitHub, the HTML representation is unable to render, please try loading this page with nbviewer.org.</b></div><div class=\"sk-container\" hidden><div class=\"sk-item\"><div class=\"sk-estimator fitted sk-toggleable\"><input class=\"sk-toggleable__control sk-hidden--visually\" id=\"sk-estimator-id-1\" type=\"checkbox\" checked><label for=\"sk-estimator-id-1\" class=\"sk-toggleable__label fitted sk-toggleable__label-arrow fitted\">&nbsp;&nbsp;LinearRegression<a class=\"sk-estimator-doc-link fitted\" rel=\"noreferrer\" target=\"_blank\" href=\"https://scikit-learn.org/1.5/modules/generated/sklearn.linear_model.LinearRegression.html\">?<span>Documentation for LinearRegression</span></a><span class=\"sk-estimator-doc-link fitted\">i<span>Fitted</span></span></label><div class=\"sk-toggleable__content fitted\"><pre>LinearRegression()</pre></div> </div></div></div></div>"
      ],
      "text/plain": [
       "LinearRegression()"
      ]
     },
     "execution_count": 136,
     "metadata": {},
     "output_type": "execute_result"
    }
   ],
   "source": [
    "model.fit(x,y)"
   ]
  },
  {
   "cell_type": "code",
   "execution_count": 138,
   "id": "c2a8e913-a075-4a1d-be8d-1cd9edd5f7c7",
   "metadata": {},
   "outputs": [],
   "source": [
    "y_predicted=pd.DataFrame(model.predict(x))"
   ]
  },
  {
   "cell_type": "code",
   "execution_count": 140,
   "id": "44ca494c-358c-4ca2-87fd-80673d5f5e5f",
   "metadata": {},
   "outputs": [
    {
     "data": {
      "text/plain": [
       "0.847758558952759"
      ]
     },
     "execution_count": 140,
     "metadata": {},
     "output_type": "execute_result"
    }
   ],
   "source": [
    "model.score(x,y)"
   ]
  },
  {
   "cell_type": "code",
   "execution_count": 142,
   "id": "29b651c8-395d-4b19-99c7-b61a470798ef",
   "metadata": {},
   "outputs": [
    {
     "data": {
      "text/plain": [
       "0.15224144104724108"
      ]
     },
     "execution_count": 142,
     "metadata": {},
     "output_type": "execute_result"
    }
   ],
   "source": [
    "from sklearn.metrics import mean_squared_error\n",
    "mean_squared_error(y,y_predicted)"
   ]
  },
  {
   "cell_type": "code",
   "execution_count": 144,
   "id": "fbcf1dd8-abea-401d-92a1-12d956ab7d01",
   "metadata": {},
   "outputs": [
    {
     "data": {
      "text/plain": [
       "0.29793866350571596"
      ]
     },
     "execution_count": 144,
     "metadata": {},
     "output_type": "execute_result"
    }
   ],
   "source": [
    "from sklearn.metrics import mean_absolute_error\n",
    "mean_absolute_error(y,y_predicted)"
   ]
  },
  {
   "cell_type": "code",
   "execution_count": null,
   "id": "d25502c7-4a5d-445c-b4bd-e6b16781b040",
   "metadata": {},
   "outputs": [],
   "source": []
  }
 ],
 "metadata": {
  "kernelspec": {
   "display_name": "Python [conda env:base] *",
   "language": "python",
   "name": "conda-base-py"
  },
  "language_info": {
   "codemirror_mode": {
    "name": "ipython",
    "version": 3
   },
   "file_extension": ".py",
   "mimetype": "text/x-python",
   "name": "python",
   "nbconvert_exporter": "python",
   "pygments_lexer": "ipython3",
   "version": "3.12.7"
  }
 },
 "nbformat": 4,
 "nbformat_minor": 5
}
